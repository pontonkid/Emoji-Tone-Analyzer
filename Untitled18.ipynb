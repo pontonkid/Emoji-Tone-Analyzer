{
  "nbformat": 4,
  "nbformat_minor": 0,
  "metadata": {
    "colab": {
      "provenance": [],
      "authorship_tag": "ABX9TyMrfY1j3FwY7izFXffRtBTS",
      "include_colab_link": true
    },
    "kernelspec": {
      "name": "python3",
      "display_name": "Python 3"
    },
    "language_info": {
      "name": "python"
    }
  },
  "cells": [
    {
      "cell_type": "markdown",
      "metadata": {
        "id": "view-in-github",
        "colab_type": "text"
      },
      "source": [
        "<a href=\"https://colab.research.google.com/github/pontonkid/Emoji-Tone-Analyzer/blob/main/Untitled18.ipynb\" target=\"_parent\"><img src=\"https://colab.research.google.com/assets/colab-badge.svg\" alt=\"Open In Colab\"/></a>"
      ]
    },
    {
      "cell_type": "code",
      "execution_count": null,
      "metadata": {
        "id": "hmko_dVs05VP"
      },
      "outputs": [],
      "source": [
        "!pip install nltk"
      ]
    },
    {
      "cell_type": "code",
      "source": [
        "!pip install gradio"
      ],
      "metadata": {
        "id": "DsiSAxKoLZ08"
      },
      "execution_count": null,
      "outputs": []
    },
    {
      "cell_type": "code",
      "source": [
        "import nltk\n",
        "from nltk.sentiment import SentimentIntensityAnalyzer\n",
        "\n",
        "# Download the vader_lexicon resource\n",
        "nltk.download('vader_lexicon')\n",
        "\n",
        "text = \"I absolutely loved this movie! The acting was superb, the plot was engaging, and the cinematography was stunning. I would highly recommend it to anyone looking for a great film to watch..\"\n",
        "analyzer = SentimentIntensityAnalyzer()\n",
        "scores = analyzer.polarity_scores(text)\n",
        "if scores['compound'] >= 0.05:\n",
        "    print(\"Positive Sentiment\")\n",
        "elif scores['compound'] <= -0.05:\n",
        "    print(\"Negative Sentiment\")\n",
        "else:\n",
        "    print(\"Neutral Sentiment\")\n"
      ],
      "metadata": {
        "id": "XDjpb9LoNjLI"
      },
      "execution_count": null,
      "outputs": []
    },
    {
      "cell_type": "code",
      "source": [
        "import gradio as gr\n",
        "import nltk\n",
        "from nltk.sentiment import SentimentIntensityAnalyzer\n",
        "\n",
        "nltk.download('vader_lexicon')\n",
        "\n",
        "analyzer = SentimentIntensityAnalyzer()\n",
        "\n",
        "def analyze_sentiment(text):\n",
        "    scores = analyzer.polarity_scores(text)\n",
        "    if scores['compound'] >= 0.5:\n",
        "        sentiment = \"Very Positive 😃\"\n",
        "    elif scores['compound'] > 0 and scores['compound'] < 0.5:\n",
        "        sentiment = \"Positive 🙂\"\n",
        "    elif scores['compound'] == 0:\n",
        "        sentiment = \"Neutral 😐\"\n",
        "    elif scores['compound'] > -0.5 and scores['compound'] < 0:\n",
        "        sentiment = \"Negative 🙁\"\n",
        "    elif scores['compound'] <= -0.5:\n",
        "        sentiment = \"Very Negative 😠\"\n",
        "    elif \"racist\" in text.lower():\n",
        "        sentiment = \"Racist 🤬\"\n",
        "    elif \"annoying\" in text.lower():\n",
        "        sentiment = \"Annoying 😒\"\n",
        "    elif \"boring\" in text.lower():\n",
        "        sentiment = \"Boring 😴\"\n",
        "    else:\n",
        "        sentiment = \"Unknown 😕\"\n",
        "    return sentiment, text\n",
        "\n",
        "iface = gr.Interface(fn=analyze_sentiment, \n",
        "                     inputs=gr.inputs.Textbox(label=\"Enter Text Here\"), \n",
        "                     outputs=[gr.outputs.Textbox(label=\"Sentiment\"), \n",
        "                              gr.outputs.Textbox(label=\"Input Text\")],\n",
        "                     title=\"Sentiment Analysis\", \n",
        "                     description=\"Enter a sentence and get the sentiment analysis result.\")\n",
        "\n",
        "iface.launch() \n"
      ],
      "metadata": {
        "colab": {
          "base_uri": "https://localhost:8080/",
          "height": 810
        },
        "id": "pnG3-4DzYel7",
        "outputId": "f80ede2e-6243-4cfe-ca5a-732a97a3f87a"
      },
      "execution_count": 16,
      "outputs": [
        {
          "output_type": "stream",
          "name": "stderr",
          "text": [
            "[nltk_data] Downloading package vader_lexicon to /root/nltk_data...\n",
            "[nltk_data]   Package vader_lexicon is already up-to-date!\n",
            "/usr/local/lib/python3.10/dist-packages/gradio/inputs.py:27: UserWarning: Usage of gradio.inputs is deprecated, and will not be supported in the future, please import your component from gradio.components\n",
            "  warnings.warn(\n",
            "/usr/local/lib/python3.10/dist-packages/gradio/deprecation.py:40: UserWarning: `optional` parameter is deprecated, and it has no effect\n",
            "  warnings.warn(value)\n",
            "/usr/local/lib/python3.10/dist-packages/gradio/deprecation.py:40: UserWarning: `numeric` parameter is deprecated, and it has no effect\n",
            "  warnings.warn(value)\n",
            "/usr/local/lib/python3.10/dist-packages/gradio/outputs.py:22: UserWarning: Usage of gradio.outputs is deprecated, and will not be supported in the future, please import your components from gradio.components\n",
            "  warnings.warn(\n"
          ]
        },
        {
          "output_type": "stream",
          "name": "stdout",
          "text": [
            "Colab notebook detected. To show errors in colab notebook, set debug=True in launch()\n",
            "Note: opening Chrome Inspector may crash demo inside Colab notebooks.\n",
            "\n",
            "To create a public link, set `share=True` in `launch()`.\n"
          ]
        },
        {
          "output_type": "display_data",
          "data": {
            "text/plain": [
              "<IPython.core.display.Javascript object>"
            ],
            "application/javascript": [
              "(async (port, path, width, height, cache, element) => {\n",
              "                        if (!google.colab.kernel.accessAllowed && !cache) {\n",
              "                            return;\n",
              "                        }\n",
              "                        element.appendChild(document.createTextNode(''));\n",
              "                        const url = await google.colab.kernel.proxyPort(port, {cache});\n",
              "\n",
              "                        const external_link = document.createElement('div');\n",
              "                        external_link.innerHTML = `\n",
              "                            <div style=\"font-family: monospace; margin-bottom: 0.5rem\">\n",
              "                                Running on <a href=${new URL(path, url).toString()} target=\"_blank\">\n",
              "                                    https://localhost:${port}${path}\n",
              "                                </a>\n",
              "                            </div>\n",
              "                        `;\n",
              "                        element.appendChild(external_link);\n",
              "\n",
              "                        const iframe = document.createElement('iframe');\n",
              "                        iframe.src = new URL(path, url).toString();\n",
              "                        iframe.height = height;\n",
              "                        iframe.allow = \"autoplay; camera; microphone; clipboard-read; clipboard-write;\"\n",
              "                        iframe.width = width;\n",
              "                        iframe.style.border = 0;\n",
              "                        element.appendChild(iframe);\n",
              "                    })(7867, \"/\", \"100%\", 500, false, window.element)"
            ]
          },
          "metadata": {}
        },
        {
          "output_type": "execute_result",
          "data": {
            "text/plain": []
          },
          "metadata": {},
          "execution_count": 16
        }
      ]
    }
  ]
}